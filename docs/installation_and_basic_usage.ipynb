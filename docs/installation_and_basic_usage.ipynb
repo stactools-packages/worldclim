{
 "cells": [
  {
   "cell_type": "markdown",
   "source": [
    "# Tutorial: Working with this stactools subpackage\n",
    "\n",
    "Stactools ([docs](https://stactools.readthedocs.io/en/latest/), [source](https://github.com/stac-utils/stactools)) is a command line tool and library for working with [STAC](https://stacspec.org/), based on [PySTAC](https://github.com/stac-utils/pystac). [Stactools packages](https://github.com/stactools-packages) are add-ons for stactools that provide STAC functionality for specific datasets, such as [Sentinel 2](https://github.com/stactools-packages/sentinel2) and [Landsat](https://github.com/stactools-packages/landsat). \n",
    "\n",
    "Stactools and its packages can be accessed from the CLI or from within normal Python code. This notebook provides examples of both."
   ],
   "metadata": {}
  },
  {
   "cell_type": "markdown",
   "source": [
    "## 1. Installing stactools\n",
    "\n",
    "To use a package, first install `stactools` then the package. `stactools` can be installed with `pip`."
   ],
   "metadata": {}
  },
  {
   "cell_type": "code",
   "execution_count": null,
   "source": [
    "%pip install stactools"
   ],
   "outputs": [],
   "metadata": {}
  },
  {
   "cell_type": "markdown",
   "source": [
    "Check that the `stac` CLI tool is installed"
   ],
   "metadata": {}
  },
  {
   "cell_type": "code",
   "execution_count": 59,
   "source": [
    "!stac"
   ],
   "outputs": [
    {
     "output_type": "stream",
     "name": "stdout",
     "text": [
      "Usage: stac [OPTIONS] COMMAND [ARGS]...\n",
      "\n",
      "Options:\n",
      "  -v, --verbose  Use verbose mode\n",
      "  -q, --quiet    Use quiet mode (no output)\n",
      "  --help         Show this message and exit.\n",
      "\n",
      "Commands:\n",
      "  copy            Copy a STAC Catalog\n",
      "  describe        Prints out a list of all catalogs, collections and items in\n",
      "                  this STAC.\n",
      "\n",
      "  info            Display info about a static STAC catalog.\n",
      "  layout          Reformat the layout of a STAC based on templating.\n",
      "  merge           Merge items from one STAC into another.\n",
      "  move-assets     Move or copy assets in a STAC to the Item locations.\n",
      "  nrcanlandcover  Commands for working with Natural Resources Canada Land\n",
      "                  Cover data\n",
      "\n",
      "  sentinel2       Commands for working with sentinel2 data\n",
      "  version         Display version info.\n"
     ]
    }
   ],
   "metadata": {}
  },
  {
   "cell_type": "markdown",
   "source": [
    "Notice the Commands available. In the next step we will add a dataset to work with"
   ],
   "metadata": {}
  },
  {
   "cell_type": "markdown",
   "source": [
    "## 2. Installing a stactools package"
   ],
   "metadata": {}
  },
  {
   "cell_type": "markdown",
   "source": [
    "Here we'll use the subpackage that this notebook resides within, but feel free to change the `PACKAGE` variable to any one of the subpackage repo names in the [stactools-subpackages](https://github.com/stactools-packages). Other examples include `sentinel2`, `planet`, and `landsat`."
   ],
   "metadata": {}
  },
  {
   "cell_type": "code",
   "execution_count": 83,
   "source": [
    "# Alter this to match your package\n",
    "PACKAGE = \"nrcan-landcover\""
   ],
   "outputs": [],
   "metadata": {}
  },
  {
   "cell_type": "code",
   "execution_count": null,
   "source": [
    "%pip install stactools-{PACKAGE}"
   ],
   "outputs": [],
   "metadata": {}
  },
  {
   "cell_type": "markdown",
   "source": [
    "Notice the addition of the subpackage command in stactools now."
   ],
   "metadata": {}
  },
  {
   "cell_type": "code",
   "execution_count": 53,
   "source": [
    "!stac"
   ],
   "outputs": [
    {
     "output_type": "stream",
     "name": "stdout",
     "text": [
      "Usage: stac [OPTIONS] COMMAND [ARGS]...\n",
      "\n",
      "Options:\n",
      "  -v, --verbose  Use verbose mode\n",
      "  -q, --quiet    Use quiet mode (no output)\n",
      "  --help         Show this message and exit.\n",
      "\n",
      "Commands:\n",
      "  copy            Copy a STAC Catalog\n",
      "  describe        Prints out a list of all catalogs, collections and items in\n",
      "                  this STAC.\n",
      "\n",
      "  info            Display info about a static STAC catalog.\n",
      "  layout          Reformat the layout of a STAC based on templating.\n",
      "  merge           Merge items from one STAC into another.\n",
      "  move-assets     Move or copy assets in a STAC to the Item locations.\n",
      "  nrcanlandcover  Commands for working with Natural Resources Canada Land\n",
      "                  Cover data\n",
      "\n",
      "  sentinel2       Commands for working with sentinel2 data\n",
      "  version         Display version info.\n"
     ]
    }
   ],
   "metadata": {}
  },
  {
   "cell_type": "markdown",
   "source": [
    "## 3. Using the stactools subpackage"
   ],
   "metadata": {}
  },
  {
   "cell_type": "markdown",
   "source": [
    "You can now explore the STAC package commands to ingest and describe the data"
   ],
   "metadata": {}
  },
  {
   "cell_type": "code",
   "execution_count": 82,
   "source": [
    "# Alter this to match your package\n",
    "COMMAND = \"create-item\""
   ],
   "outputs": [],
   "metadata": {}
  },
  {
   "cell_type": "code",
   "execution_count": 78,
   "source": [
    "!stac {PACKAGE.replace(\"-\", \"\")} --help"
   ],
   "outputs": [
    {
     "output_type": "stream",
     "name": "stdout",
     "text": [
      "/bin/bash: -c: line 0: syntax error near unexpected token `('\n",
      "/bin/bash: -c: line 0: `stac {PACKAGE.replace(\"-\", \"\")} --help'\n"
     ]
    }
   ],
   "metadata": {}
  },
  {
   "cell_type": "markdown",
   "source": [
    "And more specific help with an individual command."
   ],
   "metadata": {}
  },
  {
   "cell_type": "code",
   "execution_count": 72,
   "source": [
    "!stac {PACKAGE.replace(\"-\", \"\")} {COMMAND} --help"
   ],
   "outputs": [
    {
     "output_type": "stream",
     "name": "stdout",
     "text": [
      "Usage: stac nrcanlandcover create-item [OPTIONS]\n",
      "\n",
      "  Generate a STAC item using the metadata, with an asset url as provided.\n",
      "\n",
      "  Args:     destination (str): Local directory to save the STAC Item json\n",
      "  cog (str): location of a COG asset for the item     metadata (str): url\n",
      "  containing the NRCAN Landcover JSONLD metadata\n",
      "\n",
      "Options:\n",
      "  -d, --destination TEXT  The output directory for the STAC json  [required]\n",
      "  -c, --cog TEXT          COG href  [required]\n",
      "  -m, --metadata TEXT     The url to the metadata description.\n",
      "  --help                  Show this message and exit.\n"
     ]
    }
   ],
   "metadata": {}
  },
  {
   "cell_type": "markdown",
   "source": [
    "So far we've used Jupyter Notebooks' IPython [line magic](https://ipython.readthedocs.io/en/stable/interactive/magics.html) to work with stactools packages on the command line, but it's also possible to use them within Python scripts."
   ],
   "metadata": {}
  },
  {
   "cell_type": "code",
   "execution_count": 73,
   "source": [
    "# Alter these with examples to match your package\n",
    "from stactools.nrcan_landcover import stac, cog\n",
    "\n",
    "stac.create_item()\n",
    "stac.create_collection()\n",
    "cog.create_cog()"
   ],
   "outputs": [],
   "metadata": {}
  },
  {
   "cell_type": "code",
   "execution_count": null,
   "source": [],
   "outputs": [],
   "metadata": {}
  }
 ],
 "metadata": {
  "kernelspec": {
   "display_name": "Python 3 (ipykernel)",
   "language": "python",
   "name": "python3"
  },
  "language_info": {
   "codemirror_mode": {
    "name": "ipython",
    "version": 3
   },
   "file_extension": ".py",
   "mimetype": "text/x-python",
   "name": "python",
   "nbconvert_exporter": "python",
   "pygments_lexer": "ipython3",
   "version": "3.8.5"
  }
 },
 "nbformat": 4,
 "nbformat_minor": 5
}
